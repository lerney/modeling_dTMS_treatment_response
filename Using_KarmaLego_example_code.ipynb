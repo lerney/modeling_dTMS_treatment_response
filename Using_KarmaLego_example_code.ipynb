{
 "cells": [
  {
   "cell_type": "code",
   "execution_count": 1,
   "id": "cd0363f3",
   "metadata": {},
   "outputs": [],
   "source": [
    "from json_file_func import *"
   ]
  },
  {
   "cell_type": "code",
   "execution_count": 2,
   "id": "9219e12d",
   "metadata": {},
   "outputs": [],
   "source": [
    "from df_functions import *\n"
   ]
  },
  {
   "cell_type": "code",
   "execution_count": 3,
   "id": "ab409fe6",
   "metadata": {},
   "outputs": [],
   "source": [
    "import os\n",
    "import shutil\n",
    "import random\n",
    "import pandas as pd"
   ]
  },
  {
   "cell_type": "code",
   "execution_count": 7,
   "id": "a930f3df",
   "metadata": {},
   "outputs": [],
   "source": [
    "import subprocess"
   ]
  },
  {
   "cell_type": "code",
   "execution_count": 8,
   "id": "c6e30075",
   "metadata": {},
   "outputs": [],
   "source": [
    "input_folder = r\"C:\\final_project\\freqs_power_model\\all_abs_200ms_L3_ThAB_only_highest_level\\H7\\ALL\"\n",
    "output_folder = r\"C:\\final_project\\freqs_power_model\\all_abs_200ms_L3_ThAB_only_highest_level\\H7\\last_20_sec\"\n",
    "sec_beginning = 0\n",
    "sec_middle = 0\n",
    "sec_end = 20"
   ]
  },
  {
   "cell_type": "code",
   "execution_count": 9,
   "id": "2c71a601",
   "metadata": {},
   "outputs": [],
   "source": [
    "filter_json_sec_folders(input_folder, output_folder, sec_beginning, sec_middle, sec_end)"
   ]
  },
  {
   "cell_type": "code",
   "execution_count": 10,
   "id": "15173d3b",
   "metadata": {},
   "outputs": [],
   "source": [
    "input_folder = r\"C:\\final_project\\freqs_power_model\\all_abs_200ms_L3_ThAB_only_highest_level\\H7\\last_20_sec\"\n",
    "output_file = r\"C:\\final_project\\freqs_power_model\\all_abs_200ms_L3_ThAB_only_highest_level\\H7\\merged_data\\merged_H7_sess1_L20s.json\""
   ]
  },
  {
   "cell_type": "code",
   "execution_count": 11,
   "id": "4d6ee11f",
   "metadata": {},
   "outputs": [],
   "source": [
    "merge_json_files(input_folder, output_file)"
   ]
  },
  {
   "cell_type": "code",
   "execution_count": 12,
   "id": "7c5e0307",
   "metadata": {},
   "outputs": [],
   "source": [
    "target_path = r\"C:\\final_project\\freqs_power_model\\all_abs_200ms_L3_ThAB_only_highest_level\\H7\\KL_results\"\n",
    "mvs = 0.5\n",
    "output_folder = r\"C:\\final_project\\freqs_power_model\\all_abs_200ms_L3_ThAB_only_highest_level\\H7\\configs\"\n",
    "entities_path = r\"C:\\final_project\\freqs_power_model\\all_abs_200ms_L3_ThAB_only_highest_level\\H7\\merged_data\\merged_H7_sess1_L20s.json\"\n",
    "max_gap_value = 600\n",
    "pattern_type = \"Complete\"\n",
    "max_level = 10\n",
    "name_addition = 'L20S'"
   ]
  },
  {
   "cell_type": "code",
   "execution_count": 4,
   "id": "24b158a8",
   "metadata": {},
   "outputs": [],
   "source": [
    "from json_files_functions import *"
   ]
  },
  {
   "cell_type": "code",
   "execution_count": 15,
   "id": "eaae81b8",
   "metadata": {},
   "outputs": [],
   "source": [
    "output_file_path=create_multi_KL_config(target_path,mvs, output_folder,\n",
    "                                        entities_path,max_gap_value,pattern_type,max_level,name_addition)\n"
   ]
  },
  {
   "cell_type": "code",
   "execution_count": 16,
   "id": "ea791eb6",
   "metadata": {},
   "outputs": [
    {
     "data": {
      "text/plain": [
       "'C:\\\\final_project\\\\freqs_power_model\\\\all_abs_200ms_L3_ThAB_only_highest_level\\\\H7\\\\configs\\\\multi_KL_config_L20S.json'"
      ]
     },
     "execution_count": 16,
     "metadata": {},
     "output_type": "execute_result"
    }
   ],
   "source": [
    "output_file_path"
   ]
  },
  {
   "cell_type": "code",
   "execution_count": 17,
   "id": "1e0f3dfa",
   "metadata": {},
   "outputs": [
    {
     "data": {
      "text/plain": [
       "CompletedProcess(args='dotnet run --project C:\\\\final_project\\\\KarmaLego-master\\\\KarmaLego.Console\\\\KarmaLego.Console.csproj --config C:\\\\final_project\\\\freqs_power_model\\\\all_abs_200ms_L3_ThAB_only_highest_level\\\\H7\\\\configs\\\\multi_KL_config_L20S.json', returncode=0)"
      ]
     },
     "execution_count": 17,
     "metadata": {},
     "output_type": "execute_result"
    }
   ],
   "source": [
    "import subprocess\n",
    "\n",
    "# Define the path to the Visual Studio executable\n",
    "visual_studio_path = r'C:\\Program Files\\Microsoft Visual Studio\\2022\\Community\\MSBuild\\Current\\Bin\\MSBuild.exe'\n",
    "\n",
    "# Define the path to the project file\n",
    "project_path = r'C:\\final_project\\KarmaLego-master\\KarmaLego.Console\\KarmaLego.Console.csproj'\n",
    "\n",
    "# Define the path to the configuration files\n",
    "config_file = output_file_path\n",
    "\n",
    "# Define the command to run the project with the current configuration file\n",
    "command = f'dotnet run --project {project_path} --config {config_file}'\n",
    "\n",
    "# Run the command in a subprocess\n",
    "subprocess.run(command, shell=True)"
   ]
  },
  {
   "cell_type": "code",
   "execution_count": 18,
   "id": "9ba15b3a",
   "metadata": {},
   "outputs": [],
   "source": [
    "#making configs for single \n",
    "\n",
    "entities_folder_b=r\"C:\\final_project\\freqs_power_model\\all_abs_200ms_L3_ThAB_only_highest_level\\H7\\ALL\"\n",
    "mvs=0.5\n",
    "original_patterns_paths=r\"C:\\final_project\\freqs_power_model\\all_abs_200ms_L3_ThAB_only_highest_level\\H7\\KL_results\\merged_H7_sess1_L20s\\experiment_1\""
   ]
  },
  {
   "cell_type": "code",
   "execution_count": 19,
   "id": "77bbf977",
   "metadata": {},
   "outputs": [],
   "source": [
    "create_single_kl_configs(entities_folder_b, mvs, original_patterns_paths)\n"
   ]
  },
  {
   "cell_type": "code",
   "execution_count": 21,
   "id": "582fd1a1",
   "metadata": {},
   "outputs": [],
   "source": [
    "\n",
    "\n",
    "# Define the path to the Visual Studio executable\n",
    "visual_studio_path = r'C:\\Program Files\\Microsoft Visual Studio\\2022\\Community\\MSBuild\\Current\\Bin\\MSBuild.exe'\n",
    "\n",
    "# Define the path to the project file\n",
    "project_path = r'C:\\final_project\\KarmaLego-master\\KarmaLego.Console\\KarmaLego.Console.csproj'\n",
    "\n",
    "# Define the path to the configuration files\n",
    "config_folder = r\"C:\\final_project\\freqs_power_model\\all_abs_200ms_L3_ThAB_only_highest_level\\H7\\KL_results\\merged_H7_sess1_L20s\\experiment_1\\testing_configs\"\n",
    "config_files = [os.path.join(config_folder, f) for f in os.listdir(config_folder) if f.endswith('.json')]\n",
    "# Loop through the configuration files and run the project with each one\n",
    "for config_file in config_files:\n",
    "\n",
    "    # Define the command to run the project with the current configuration file\n",
    "    command = f'dotnet run --project {project_path} --config {config_file}'\n",
    "\n",
    "    # Run the command in a subprocess\n",
    "    subprocess.run(command, shell=True)"
   ]
  },
  {
   "cell_type": "code",
   "execution_count": 22,
   "id": "35723409",
   "metadata": {},
   "outputs": [
    {
     "name": "stdout",
     "output_type": "stream",
     "text": [
      "Merged data saved successfully!\n"
     ]
    }
   ],
   "source": [
    "#merging karmalego excel files\n",
    "main_folder = r\"C:\\final_project\\freqs_power_model\\all_abs_200ms_L3_ThAB_only_highest_level\\H7\\KL_results\\merged_H7_sess1_L20s\\experiment_1\\single_kl_results\"\n",
    "\n",
    "merge_excel_files(main_folder)"
   ]
  },
  {
   "cell_type": "code",
   "execution_count": 23,
   "id": "5b7c4070",
   "metadata": {},
   "outputs": [],
   "source": [
    "#merging HS and MD csv files\n",
    "file1_path = r\"C:\\final_project\\freqs_power_model\\all_abs_200ms_L3_ThAB_only_highest_level\\H7\\KL_results\\merged_H7_sess1_L20s\\experiment_1\\single_kl_results\\all_singles_horizontalSupport.csv\"\n",
    "file2_path = r\"C:\\final_project\\freqs_power_model\\all_abs_200ms_L3_ThAB_only_highest_level\\H7\\KL_results\\merged_H7_sess1_L20s\\experiment_1\\single_kl_results\\all_singles_meanDuration.csv\"\n",
    "output_path = r\"C:\\final_project\\freqs_power_model\\all_abs_200ms_L3_ThAB_only_highest_level\\H7\\KL_results\\merged_H7_sess1_L20s\\experiment_1\\md_and_hs_singles.csv\"\n",
    "\n",
    "merge_csv_files(file1_path, file2_path, output_path)"
   ]
  },
  {
   "cell_type": "code",
   "execution_count": 6,
   "id": "f6ae1637",
   "metadata": {},
   "outputs": [],
   "source": [
    "X_file_path = r\"C:\\final_project\\freqs_power_model\\all_abs_200ms_L3_ThAB_only_highest_level\\H7\\KL_results\\merged_H7_sess1_L20s\\experiment_1\\md_and_hs_singles.csv\"\n",
    "y_file_path = r\"C:\\final_project\\H7.csv\"\n",
    "output_folder= r\"C:\\final_project\\freqs_power_model\\all_abs_200ms_L3_ThAB_only_highest_level\\H7\\KL_results\\merged_H7_sess1_L20s\\experiment_1\"\n",
    "\n",
    "\n",
    "\n",
    "\n",
    "merge_x_and_y(X_file_path, y_file_path, output_folder,'all','hsmd','isremitted')"
   ]
  },
  {
   "cell_type": "code",
   "execution_count": null,
   "id": "8576b117",
   "metadata": {},
   "outputs": [],
   "source": [
    "import pandas as pd"
   ]
  },
  {
   "cell_type": "code",
   "execution_count": null,
   "id": "a142873d",
   "metadata": {},
   "outputs": [],
   "source": [
    "df=pd.read_csv(r\"C:\\final_project\\freqs_power_model\\all_abs_200ms_L3_ThAB_only_highest_level\\H7\\KL_results\\merged_H7_sess1_L20s\\experiment_1\\X_all_hsmd_on_isremitted.csv\")\n"
   ]
  }
 ],
 "metadata": {
  "kernelspec": {
   "display_name": "Python 3 (ipykernel)",
   "language": "python",
   "name": "python3"
  },
  "language_info": {
   "codemirror_mode": {
    "name": "ipython",
    "version": 3
   },
   "file_extension": ".py",
   "mimetype": "text/x-python",
   "name": "python",
   "nbconvert_exporter": "python",
   "pygments_lexer": "ipython3",
   "version": "3.9.16"
  }
 },
 "nbformat": 4,
 "nbformat_minor": 5
}
